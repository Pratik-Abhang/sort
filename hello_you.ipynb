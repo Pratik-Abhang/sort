{
 "cells": [
  {
   "cell_type": "code",
   "execution_count": 11,
   "id": "ce583cb3",
   "metadata": {},
   "outputs": [
    {
     "name": "stdout",
     "output_type": "stream",
     "text": [
      "Enter your feelings mooni dont want to talk\n",
      "I found a love, for me\n",
      " Darling, just dive right in and follow my lead\n",
      " Well, I found a girl, beautiful and sweet\n",
      " Oh, I never knew you were the someone waiting for me\n",
      "\n"
     ]
    }
   ],
   "source": [
    "ip = input(\"Enter your feelings moon\")\n",
    "\n",
    "if ip=='i love you':\n",
    "    print(\"Well, I found a woman, stronger than anyone I know\\n She shares my dreams, I hope that someday Ill share her home\\n I found a lover, to carry more than just my secrets To carry love, to carry children of our own\")\n",
    "elif ip=='i hate you':\n",
    "    print(\"We are still kids, but we're so in love Fighting against all odds\\n I know we'll be alright this time\\n Darling, just hold my hand Be my girl, I'll be your man\\n I see my future in your eyes\")\n",
    "elif ip=='i am mad at you':\n",
    "    print(\"we were just kids when we fell in love\\n Not knowing what it was\\n I will not give you up this time\\n But darling, just kiss me slow\\n Your heart is all I own\\n And in your eyes, you're holding mine\")\n",
    "elif ip=='maska nko maru':\n",
    "    print(\"I have faith in what I see\\n Now I know I have met an angel in person\\n And she looks perfect\")\n",
    "elif ip=='its ok':\n",
    "    print(\"I don't deserve this\\nYou look perfect tonight\")\n",
    "elif ip=='mg':\n",
    "    print(\"Baby, I'm dancing in the dark\\n With you between my arms\\n Barefoot on the grass\\n Listening to our favourite song\\n When you said you looked a mess\\n I whispered underneath my breath\\n But you heard it\\n Darling, you look perfect tonight\")\n",
    "elif ip=='i dont want to talk':\n",
    "    print(\"I found a love, for me\\n Darling, just dive right in and follow my lead\\n Well, I found a girl, beautiful and sweet\\n Oh, I never knew you were the someone waiting for me\\n\")\n",
    "else:\n",
    "    print(\"I have faith in what I see\\n Now I know I have met an angel in person\\n And she looks perfect\\n I don't deserve this\\nYou look perfect tonight\")"
   ]
  },
  {
   "cell_type": "code",
   "execution_count": null,
   "id": "e105277b",
   "metadata": {},
   "outputs": [],
   "source": []
  }
 ],
 "metadata": {
  "kernelspec": {
   "display_name": "Python 3 (ipykernel)",
   "language": "python",
   "name": "python3"
  },
  "language_info": {
   "codemirror_mode": {
    "name": "ipython",
    "version": 3
   },
   "file_extension": ".py",
   "mimetype": "text/x-python",
   "name": "python",
   "nbconvert_exporter": "python",
   "pygments_lexer": "ipython3",
   "version": "3.11.4"
  }
 },
 "nbformat": 4,
 "nbformat_minor": 5
}
